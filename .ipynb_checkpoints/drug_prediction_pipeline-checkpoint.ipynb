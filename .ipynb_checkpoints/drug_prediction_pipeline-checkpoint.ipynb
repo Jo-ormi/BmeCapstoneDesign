{
 "cells": [
  {
   "cell_type": "code",
   "execution_count": 1,
   "id": "5da20583",
   "metadata": {},
   "outputs": [],
   "source": [
    "from keras.models import Sequential\n",
    "from keras.models import load_model\n",
    "from pandas import DataFrame as df\n",
    "\n",
    "import pandas as pd\n",
    "import numpy as np\n",
    "import tensorflow as tf\n",
    "\n",
    "import sys"
   ]
  },
  {
   "cell_type": "code",
   "execution_count": 2,
   "id": "424f01ef",
   "metadata": {},
   "outputs": [],
   "source": [
    "#User Input\n",
    "work_dir = \"/home/jwseo/drug_repositioning/new_workflow/\"\n",
    "drug_a = 'DB01068'\n",
    "drug_b = 'DB00951'"
   ]
  },
  {
   "cell_type": "code",
   "execution_count": null,
   "id": "9b4236a4",
   "metadata": {},
   "outputs": [],
   "source": [
    "#model load\n",
    "model_loc = work_dir + \"pretrained_model.h5\"\n",
    "model = load_model(model_loc)"
   ]
  },
  {
   "cell_type": "code",
   "execution_count": null,
   "id": "32924ea4",
   "metadata": {},
   "outputs": [],
   "source": [
    "#load_ddi_type data\n",
    "drug_type_loc = work_dir + \"ddi_type_description.csv\"\n",
    "drug_type = pd.read_csv(drug_type_loc)"
   ]
  },
  {
   "cell_type": "code",
   "execution_count": null,
   "id": "c7fb8976",
   "metadata": {},
   "outputs": [],
   "source": [
    "drug_type_dic = {}\n",
    "for i in range(0,len(drug_type)) :\n",
    "    ddi_num = drug_type.iloc[i,0]\n",
    "    description = drug_type.iloc[i,1]\n",
    "    drug_type_dic[ddi_num] = description"
   ]
  },
  {
   "cell_type": "code",
   "execution_count": null,
   "id": "d389586f",
   "metadata": {},
   "outputs": [],
   "source": [
    "#ssp load\n",
    "ssp_loc = work_dir + \"SSP_pca.txt\"\n",
    "ssp = pd.read_csv(ssp_loc, delimiter = \"\\t\")"
   ]
  },
  {
   "cell_type": "code",
   "execution_count": null,
   "id": "e8ca9b8e",
   "metadata": {},
   "outputs": [],
   "source": [
    "ssp_dic={}\n",
    "for i in range(0,len(ssp)) :\n",
    "    drug = ssp.iloc[i,0]\n",
    "    ssp_temp = list(ssp.iloc[i,1:202])\n",
    "    ssp_dic[drug] = ssp_temp"
   ]
  },
  {
   "cell_type": "code",
   "execution_count": null,
   "id": "57f00fbc",
   "metadata": {},
   "outputs": [],
   "source": [
    "#psp load\n",
    "psp_loc = work_dir + \"PSP_pca.txt\"\n",
    "psp = pd.read_csv(psp_loc, delimiter = \"\\t\")"
   ]
  },
  {
   "cell_type": "code",
   "execution_count": null,
   "id": "58732428",
   "metadata": {},
   "outputs": [],
   "source": [
    "psp_dic={}\n",
    "for i in range(0,len(psp)) :\n",
    "    drug = psp.iloc[i,0]\n",
    "    psp_temp = list(psp.iloc[i,1:302])\n",
    "    psp_dic[drug] = psp_temp"
   ]
  },
  {
   "cell_type": "code",
   "execution_count": null,
   "id": "6a89c99e",
   "metadata": {},
   "outputs": [],
   "source": [
    "index = 1\n",
    "if drug_a not in ssp_dic.keys() :\n",
    "    print(drug_a, \" don't have structure information\")\n",
    "    index = 0\n",
    "if drug_a not in psp_dic.keys() :\n",
    "    print(drug_a, \" don't have CTET protein information\")\n",
    "    index = 0\n",
    "if drug_b not in ssp_dic.keys() :\n",
    "    print(drug_b, \" don't have structure information\")\n",
    "    index = 0\n",
    "if drug_b not in psp_dic.keys() : \n",
    "    print(drug_b, \" don't have CTET protein information\")\n",
    "    index = 0\n",
    "\n",
    "if index == 1 :\n",
    "    drug_a_ssp = ssp_dic[drug_a]\n",
    "    drug_a_psp = psp_dic[drug_a]\n",
    "    drug_b_ssp = ssp_dic[drug_b]\n",
    "    drug_b_psp = psp_dic[drug_b]\n",
    "    input_temp = drug_a_ssp + drug_a_psp + drug_b_ssp + drug_b_psp\n",
    "    input_df = df([input_temp])\n",
    "    network_input = input_df.astype(float)"
   ]
  },
  {
   "cell_type": "code",
   "execution_count": null,
   "id": "1a68fdeb",
   "metadata": {},
   "outputs": [],
   "source": [
    "#model prediction\n",
    "test_result = model.predict(network_input)\n",
    "temp_list = test_result[0].tolist()\n",
    "confidence = max(temp_list)\n",
    "answer = temp_list.index(max(temp_list))\n",
    "result = [drug_a, drug_b, answer, confidence]\n",
    "result"
   ]
  },
  {
   "cell_type": "code",
   "execution_count": null,
   "id": "8df0adbb",
   "metadata": {},
   "outputs": [],
   "source": [
    "#Print Result\n",
    "print(\"\\n\\nResult\\n\")\n",
    "print(\"DDI between\", drug_a, \"and\",drug_b, \"is DDI type\",result[2])\n",
    "print(\"Description of DDI : \", drug_type_dic[result[2]])\n",
    "print(\"Confidence Level : {:.2f}%\".format(result[3]*100))"
   ]
  }
 ],
 "metadata": {
  "kernelspec": {
   "display_name": "Python 3 (ipykernel)",
   "language": "python",
   "name": "python3"
  },
  "language_info": {
   "codemirror_mode": {
    "name": "ipython",
    "version": 3
   },
   "file_extension": ".py",
   "mimetype": "text/x-python",
   "name": "python",
   "nbconvert_exporter": "python",
   "pygments_lexer": "ipython3",
   "version": "3.8.12"
  }
 },
 "nbformat": 4,
 "nbformat_minor": 5
}
